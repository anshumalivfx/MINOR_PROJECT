{
 "cells": [
  {
   "cell_type": "code",
   "execution_count": 1,
   "metadata": {},
   "outputs": [],
   "source": [
    "import pyttsx3"
   ]
  },
  {
   "cell_type": "code",
   "execution_count": 6,
   "metadata": {},
   "outputs": [
    {
     "ename": "KeyError",
     "evalue": "'VoiceAge'",
     "output_type": "error",
     "traceback": [
      "\u001b[0;31m---------------------------------------------------------------------------\u001b[0m",
      "\u001b[0;31mKeyError\u001b[0m                                  Traceback (most recent call last)",
      "Cell \u001b[0;32mIn [6], line 2\u001b[0m\n\u001b[1;32m      1\u001b[0m engine \u001b[39m=\u001b[39m pyttsx3\u001b[39m.\u001b[39minit()\n\u001b[0;32m----> 2\u001b[0m voices \u001b[39m=\u001b[39m engine\u001b[39m.\u001b[39;49mgetProperty(\u001b[39m'\u001b[39;49m\u001b[39mvoices\u001b[39;49m\u001b[39m'\u001b[39;49m)\n",
      "File \u001b[0;32m~/MINOR_PROJECT/env/lib/python3.9/site-packages/pyttsx3/engine.py:146\u001b[0m, in \u001b[0;36mEngine.getProperty\u001b[0;34m(self, name)\u001b[0m\n\u001b[1;32m    128\u001b[0m \u001b[39mdef\u001b[39;00m \u001b[39mgetProperty\u001b[39m(\u001b[39mself\u001b[39m, name):\n\u001b[1;32m    129\u001b[0m     \u001b[39m\"\"\"\u001b[39;00m\n\u001b[1;32m    130\u001b[0m \u001b[39m    Gets the current value of a property. Valid names and values include:\u001b[39;00m\n\u001b[1;32m    131\u001b[0m \n\u001b[0;32m   (...)\u001b[0m\n\u001b[1;32m    144\u001b[0m \u001b[39m    @raise KeyError: When the property name is unknown\u001b[39;00m\n\u001b[1;32m    145\u001b[0m \u001b[39m    \"\"\"\u001b[39;00m\n\u001b[0;32m--> 146\u001b[0m     \u001b[39mreturn\u001b[39;00m \u001b[39mself\u001b[39;49m\u001b[39m.\u001b[39;49mproxy\u001b[39m.\u001b[39;49mgetProperty(name)\n",
      "File \u001b[0;32m~/MINOR_PROJECT/env/lib/python3.9/site-packages/pyttsx3/driver.py:173\u001b[0m, in \u001b[0;36mDriverProxy.getProperty\u001b[0;34m(self, name)\u001b[0m\n\u001b[1;32m    164\u001b[0m \u001b[39mdef\u001b[39;00m \u001b[39mgetProperty\u001b[39m(\u001b[39mself\u001b[39m, name):\n\u001b[1;32m    165\u001b[0m     \u001b[39m'''\u001b[39;00m\n\u001b[1;32m    166\u001b[0m \u001b[39m    Called by the engine to get a driver property value.\u001b[39;00m\n\u001b[1;32m    167\u001b[0m \n\u001b[0;32m   (...)\u001b[0m\n\u001b[1;32m    171\u001b[0m \u001b[39m    @rtype: object\u001b[39;00m\n\u001b[1;32m    172\u001b[0m \u001b[39m    '''\u001b[39;00m\n\u001b[0;32m--> 173\u001b[0m     \u001b[39mreturn\u001b[39;00m \u001b[39mself\u001b[39;49m\u001b[39m.\u001b[39;49m_driver\u001b[39m.\u001b[39;49mgetProperty(name)\n",
      "File \u001b[0;32m~/MINOR_PROJECT/env/lib/python3.9/site-packages/pyttsx3/drivers/nsss.py:69\u001b[0m, in \u001b[0;36mNSSpeechDriver.getProperty\u001b[0;34m(self, name)\u001b[0m\n\u001b[1;32m     66\u001b[0m \u001b[39m@objc\u001b[39m\u001b[39m.\u001b[39mpython_method\n\u001b[1;32m     67\u001b[0m \u001b[39mdef\u001b[39;00m \u001b[39mgetProperty\u001b[39m(\u001b[39mself\u001b[39m, name):\n\u001b[1;32m     68\u001b[0m     \u001b[39mif\u001b[39;00m name \u001b[39m==\u001b[39m \u001b[39m'\u001b[39m\u001b[39mvoices\u001b[39m\u001b[39m'\u001b[39m:\n\u001b[0;32m---> 69\u001b[0m         \u001b[39mreturn\u001b[39;00m [\u001b[39mself\u001b[39m\u001b[39m.\u001b[39m_toVoice(NSSpeechSynthesizer\u001b[39m.\u001b[39mattributesForVoice_(v))\n\u001b[1;32m     70\u001b[0m                 \u001b[39mfor\u001b[39;00m v \u001b[39min\u001b[39;00m \u001b[39mlist\u001b[39m(NSSpeechSynthesizer\u001b[39m.\u001b[39mavailableVoices())]\n\u001b[1;32m     71\u001b[0m     \u001b[39melif\u001b[39;00m name \u001b[39m==\u001b[39m \u001b[39m'\u001b[39m\u001b[39mvoice\u001b[39m\u001b[39m'\u001b[39m:\n\u001b[1;32m     72\u001b[0m         \u001b[39mreturn\u001b[39;00m \u001b[39mself\u001b[39m\u001b[39m.\u001b[39m_tts\u001b[39m.\u001b[39mvoice()\n",
      "File \u001b[0;32m~/MINOR_PROJECT/env/lib/python3.9/site-packages/pyttsx3/drivers/nsss.py:69\u001b[0m, in \u001b[0;36m<listcomp>\u001b[0;34m(.0)\u001b[0m\n\u001b[1;32m     66\u001b[0m \u001b[39m@objc\u001b[39m\u001b[39m.\u001b[39mpython_method\n\u001b[1;32m     67\u001b[0m \u001b[39mdef\u001b[39;00m \u001b[39mgetProperty\u001b[39m(\u001b[39mself\u001b[39m, name):\n\u001b[1;32m     68\u001b[0m     \u001b[39mif\u001b[39;00m name \u001b[39m==\u001b[39m \u001b[39m'\u001b[39m\u001b[39mvoices\u001b[39m\u001b[39m'\u001b[39m:\n\u001b[0;32m---> 69\u001b[0m         \u001b[39mreturn\u001b[39;00m [\u001b[39mself\u001b[39;49m\u001b[39m.\u001b[39;49m_toVoice(NSSpeechSynthesizer\u001b[39m.\u001b[39;49mattributesForVoice_(v))\n\u001b[1;32m     70\u001b[0m                 \u001b[39mfor\u001b[39;00m v \u001b[39min\u001b[39;00m \u001b[39mlist\u001b[39m(NSSpeechSynthesizer\u001b[39m.\u001b[39mavailableVoices())]\n\u001b[1;32m     71\u001b[0m     \u001b[39melif\u001b[39;00m name \u001b[39m==\u001b[39m \u001b[39m'\u001b[39m\u001b[39mvoice\u001b[39m\u001b[39m'\u001b[39m:\n\u001b[1;32m     72\u001b[0m         \u001b[39mreturn\u001b[39;00m \u001b[39mself\u001b[39m\u001b[39m.\u001b[39m_tts\u001b[39m.\u001b[39mvoice()\n",
      "File \u001b[0;32m~/MINOR_PROJECT/env/lib/python3.9/site-packages/pyttsx3/drivers/nsss.py:64\u001b[0m, in \u001b[0;36mNSSpeechDriver._toVoice\u001b[0;34m(self, attr)\u001b[0m\n\u001b[1;32m     60\u001b[0m \u001b[39mexcept\u001b[39;00m \u001b[39mKeyError\u001b[39;00m:\n\u001b[1;32m     61\u001b[0m     lang \u001b[39m=\u001b[39m attr[\u001b[39m'\u001b[39m\u001b[39mVoiceLanguage\u001b[39m\u001b[39m'\u001b[39m]\n\u001b[1;32m     62\u001b[0m \u001b[39mreturn\u001b[39;00m Voice(attr[\u001b[39m'\u001b[39m\u001b[39mVoiceIdentifier\u001b[39m\u001b[39m'\u001b[39m], attr[\u001b[39m'\u001b[39m\u001b[39mVoiceName\u001b[39m\u001b[39m'\u001b[39m],\n\u001b[1;32m     63\u001b[0m              [lang], attr[\u001b[39m'\u001b[39m\u001b[39mVoiceGender\u001b[39m\u001b[39m'\u001b[39m],\n\u001b[0;32m---> 64\u001b[0m              attr[\u001b[39m'\u001b[39;49m\u001b[39mVoiceAge\u001b[39;49m\u001b[39m'\u001b[39;49m])\n",
      "File \u001b[0;32m~/MINOR_PROJECT/env/lib/python3.9/site-packages/objc/_convenience_mapping.py:18\u001b[0m, in \u001b[0;36m__getitem__objectForKey_\u001b[0;34m(self, key)\u001b[0m\n\u001b[1;32m     16\u001b[0m \u001b[39mdef\u001b[39;00m \u001b[39m__getitem__objectForKey_\u001b[39m(\u001b[39mself\u001b[39m, key):\n\u001b[1;32m     17\u001b[0m     res \u001b[39m=\u001b[39m \u001b[39mself\u001b[39m\u001b[39m.\u001b[39mobjectForKey_(container_wrap(key))\n\u001b[0;32m---> 18\u001b[0m     \u001b[39mreturn\u001b[39;00m container_unwrap(res, \u001b[39mKeyError\u001b[39;49;00m, key)\n",
      "File \u001b[0;32m~/MINOR_PROJECT/env/lib/python3.9/site-packages/objc/_convenience.py:134\u001b[0m, in \u001b[0;36mcontainer_unwrap\u001b[0;34m(v, exc_type, *exc_args)\u001b[0m\n\u001b[1;32m    132\u001b[0m \u001b[39mdef\u001b[39;00m \u001b[39mcontainer_unwrap\u001b[39m(v, exc_type, \u001b[39m*\u001b[39mexc_args):\n\u001b[1;32m    133\u001b[0m     \u001b[39mif\u001b[39;00m v \u001b[39mis\u001b[39;00m \u001b[39mNone\u001b[39;00m:\n\u001b[0;32m--> 134\u001b[0m         \u001b[39mraise\u001b[39;00m exc_type(\u001b[39m*\u001b[39mexc_args)\n\u001b[1;32m    135\u001b[0m     \u001b[39melif\u001b[39;00m v \u001b[39mis\u001b[39;00m _NULL:\n\u001b[1;32m    136\u001b[0m         \u001b[39mreturn\u001b[39;00m \u001b[39mNone\u001b[39;00m\n",
      "\u001b[0;31mKeyError\u001b[0m: 'VoiceAge'"
     ]
    }
   ],
   "source": [
    "engine = pyttsx3.init()\n",
    "voices = engine.getProperty('voices')"
   ]
  },
  {
   "cell_type": "code",
   "execution_count": null,
   "metadata": {},
   "outputs": [],
   "source": []
  }
 ],
 "metadata": {
  "kernelspec": {
   "display_name": "Python 3.9.12 ('env': venv)",
   "language": "python",
   "name": "python3"
  },
  "language_info": {
   "codemirror_mode": {
    "name": "ipython",
    "version": 3
   },
   "file_extension": ".py",
   "mimetype": "text/x-python",
   "name": "python",
   "nbconvert_exporter": "python",
   "pygments_lexer": "ipython3",
   "version": "3.9.12"
  },
  "orig_nbformat": 4,
  "vscode": {
   "interpreter": {
    "hash": "c825baebbc27e485e4b39a59e38e247d1ac480ba9d64c82eb6faae079a5a819a"
   }
  }
 },
 "nbformat": 4,
 "nbformat_minor": 2
}
